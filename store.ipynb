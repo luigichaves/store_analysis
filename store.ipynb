{
 "cells": [
  {
   "cell_type": "markdown",
   "id": "8b45f5a5-510d-4c74-b7d5-3d65add62389",
   "metadata": {
    "tags": []
   },
   "source": [
    "## Conhhecendo o Dataset"
   ]
  },
  {
   "cell_type": "code",
   "execution_count": null,
   "id": "5a633d5d-1b9f-4b9a-9bca-fea459fdae05",
   "metadata": {},
   "outputs": [],
   "source": [
    "import numpy as np\n",
    "import pandas as pd"
   ]
  },
  {
   "cell_type": "code",
   "execution_count": null,
   "id": "fd94efdf-8a53-4f50-8b9f-501e9af243dd",
   "metadata": {},
   "outputs": [],
   "source": [
    "df = pd.read_csv('superstore_data.csv')"
   ]
  },
  {
   "cell_type": "code",
   "execution_count": null,
   "id": "090aa8fb-6db9-43fb-8ef8-8219f0016c2c",
   "metadata": {},
   "outputs": [],
   "source": [
    "df.head()"
   ]
  },
  {
   "cell_type": "code",
   "execution_count": null,
   "id": "512f2319-7783-48fd-8ca3-48965081b041",
   "metadata": {},
   "outputs": [],
   "source": [
    "df.columns"
   ]
  },
  {
   "cell_type": "code",
   "execution_count": null,
   "id": "c6ec7111-2f3d-4647-ad4f-f87ec8d6cf67",
   "metadata": {},
   "outputs": [],
   "source": [
    "df.shape"
   ]
  },
  {
   "cell_type": "markdown",
   "id": "b8146947-822f-4a98-9039-a632b08bcedd",
   "metadata": {},
   "source": [
    "*Descrição das colunas do dataset*\n",
    "* Id: número único de cada cliente\n",
    "* Year_Birth: ano de nascimento do cliente\n",
    "* Education: nível de educação do cliente\n",
    "* Maritial_Status: estado civíl\n",
    "* Income: renda familiar anual\n",
    "* Kidhome: número de crianças em casa\n",
    "* Teenhome: número de adolescentes em casa\n",
    "* Dt_Customer:data de inscrição do cliente na empresa\n",
    "* Recency: número de dias desde a última compra\n",
    "* MntWines: o valor gasto em produtos vitivinícolas nos últimos 2 anos\n",
    "* MntFruits: o valor gasto em frutas nos últimos 2 anos\n",
    "* MntMeatProducts: o valor gasto em produtos de carne nos últimos dois anos\n",
    "* MntFishProducts: o valor gasto em produtos de peixe nos últimos dois anos\n",
    "* MntSweetProducts: o valor gasto em produtos doces nos últimos dois anos\n",
    "* MntGoldProds: o valor gasto em produtos de ouro nos últimos dois anos\n",
    "* NumDealsPurchases: números de compras feitas com desconto\n",
    "* NumWebPurchases: número de compras feitas através do site da empresa\n",
    "* NumCatalogPurchases: número de compras feitas por catálogo (compra de mercadorias para envio pelo correio)\n",
    "* NumStorePurchases: número de compras feitas diretamente nas lojas\n",
    "* NumWebVisitsMonth: número de visitas ao site da empresa no último mês\n",
    "* Response: 1 se o cliente aceitou a oferta na última campanha, 0 caso contrário\n",
    "* Complain: 1 se o cliente reclamou nos últimos 2 anos"
   ]
  },
  {
   "cell_type": "code",
   "execution_count": null,
   "id": "0dfc79ca-ee3c-4f56-a17c-8e2ae9af4aeb",
   "metadata": {},
   "outputs": [],
   "source": [
    "df.dtypes"
   ]
  },
  {
   "cell_type": "code",
   "execution_count": null,
   "id": "b70e2670-6eb7-4252-b433-5341d3da9e15",
   "metadata": {},
   "outputs": [],
   "source": [
    "df.describe()"
   ]
  },
  {
   "cell_type": "code",
   "execution_count": null,
   "id": "362bc254-42ee-41c9-8bae-960962234695",
   "metadata": {},
   "outputs": [],
   "source": [
    "df.Year_Birth.max() - df.Year_Birth.min()"
   ]
  },
  {
   "cell_type": "code",
   "execution_count": null,
   "id": "0372fb24-025e-4e65-a020-494f9122df67",
   "metadata": {},
   "outputs": [],
   "source": [
    "df.Education.value_counts()"
   ]
  },
  {
   "cell_type": "code",
   "execution_count": null,
   "id": "93168c6f-45d9-4834-9924-5404510be14f",
   "metadata": {},
   "outputs": [],
   "source": [
    "df.Marital_Status.value_counts()"
   ]
  },
  {
   "cell_type": "code",
   "execution_count": null,
   "id": "2c39ddb6-b724-45a4-acb1-7bd05d94677f",
   "metadata": {},
   "outputs": [],
   "source": [
    "df.Teenhome.value_counts()"
   ]
  },
  {
   "cell_type": "code",
   "execution_count": null,
   "id": "f49b1745-dac0-4500-a26b-30bfbc6c203a",
   "metadata": {},
   "outputs": [],
   "source": [
    "df.Kidhome.value_counts()"
   ]
  },
  {
   "cell_type": "code",
   "execution_count": null,
   "id": "be3c7d47-c8fa-4efc-b3a9-7c7c1cb96c1b",
   "metadata": {},
   "outputs": [],
   "source": [
    "df.isnull().sum()"
   ]
  },
  {
   "cell_type": "code",
   "execution_count": null,
   "id": "f7931103-649a-4206-8810-473782720372",
   "metadata": {},
   "outputs": [],
   "source": [
    "df.loc[df['Income'].isnull()]"
   ]
  },
  {
   "cell_type": "code",
   "execution_count": null,
   "id": "78cc0e25-ee53-4c4f-9cd1-5daa65f69637",
   "metadata": {},
   "outputs": [],
   "source": [
    "df.isnull().sum() / len(df) * 100 # porcentagem de valores nulos"
   ]
  },
  {
   "cell_type": "code",
   "execution_count": null,
   "id": "30f9731d-27e2-41b2-97b3-a4ffd93debc1",
   "metadata": {},
   "outputs": [],
   "source": [
    "df.drop_duplicates()"
   ]
  },
  {
   "cell_type": "code",
   "execution_count": null,
   "id": "bd554f5d-7505-4bda-8f1a-fc9339bd020a",
   "metadata": {},
   "outputs": [],
   "source": [
    "df.shape"
   ]
  },
  {
   "cell_type": "markdown",
   "id": "0b2d4751-d0b9-49db-89a9-ba94ffeb18b9",
   "metadata": {
    "tags": []
   },
   "source": [
    "### Observações\n",
    "\n",
    "* A coluna \"Dt_Customer\" não está no formato correto (data), iremos corrigir isso posteriormente;\n",
    "* A coluna \"Year_Birth\" tem uma grande diferença entre seu valor máximo e mínimo;\n",
    "* Há muitas categorias na coluna \"Maritial_Status\", podemos resolver isso ao definir \"Alone\", \"YOLO\", e \"Absurd\" como \"Single\" e \"Together\" como \"Married\";\n",
    "* A coluna Education possui a categoria \"Master\" e \"2n Cycle\", no qual significam a mesma coisa;\n",
    "* Podemos excluir a coluna \"Id\";\n",
    "* A coluna \"Income\" possui valores nulos (1.07%).\n",
    "\n",
    "Os valores nulos (Income) e a exclusão (Id) serão feitos mais adiante, pois trataremos individualmente."
   ]
  },
  {
   "cell_type": "markdown",
   "id": "f33ca9bb-d47e-4ee6-a984-17dc73fcf500",
   "metadata": {},
   "source": [
    "## Tratamento e exploração dos dados"
   ]
  },
  {
   "cell_type": "code",
   "execution_count": null,
   "id": "1b8501ea-6767-45db-8c52-a98e2b4f94d3",
   "metadata": {},
   "outputs": [],
   "source": [
    "import matplotlib.pyplot as plt\n",
    "import plotly.express as px"
   ]
  },
  {
   "cell_type": "markdown",
   "id": "3f039456-cde4-4279-a416-2e8965cd61a3",
   "metadata": {},
   "source": [
    "Alterando o tipos da variável para datetime"
   ]
  },
  {
   "cell_type": "code",
   "execution_count": null,
   "id": "e6203485-7316-468c-98d9-08e88898acce",
   "metadata": {},
   "outputs": [],
   "source": [
    "df['Dt_Customer'] = pd.to_datetime(df['Dt_Customer'], format='%m/%d/%Y') # atribuindo tipo datetime para a variável \"Dt_Customer\""
   ]
  },
  {
   "cell_type": "code",
   "execution_count": null,
   "id": "5474877f-9ca0-4dc8-9ee3-7406ebb5b58f",
   "metadata": {},
   "outputs": [],
   "source": [
    "df.dtypes"
   ]
  },
  {
   "cell_type": "code",
   "execution_count": null,
   "id": "2b1bd558-9849-46a2-8376-81835f1d3142",
   "metadata": {},
   "outputs": [],
   "source": [
    "df.head(3)"
   ]
  },
  {
   "cell_type": "markdown",
   "id": "9b575110-81f4-4fe3-b748-17d7d1260165",
   "metadata": {},
   "source": [
    "Verificando e removendo os outliers da coluna \"Year_Birth\""
   ]
  },
  {
   "cell_type": "code",
   "execution_count": null,
   "id": "312d5dd7-d2e8-4cc0-8b03-3c0c20508108",
   "metadata": {},
   "outputs": [],
   "source": [
    "px.box(df, x='Year_Birth') # outliers"
   ]
  },
  {
   "cell_type": "code",
   "execution_count": null,
   "id": "43a9c28a-a581-40a3-88f1-4af84c4822a4",
   "metadata": {},
   "outputs": [],
   "source": [
    "df = df.loc[df['Year_Birth'] > 1900] # retirando outliers"
   ]
  },
  {
   "cell_type": "code",
   "execution_count": null,
   "id": "096c8f4a-4836-44d9-b3d6-4467f8bda536",
   "metadata": {},
   "outputs": [],
   "source": [
    "df.shape"
   ]
  },
  {
   "cell_type": "code",
   "execution_count": null,
   "id": "55fe419e-6741-4e5e-af80-7aacc44b7696",
   "metadata": {},
   "outputs": [],
   "source": [
    "px.box(df, x='Year_Birth') # verificando"
   ]
  },
  {
   "cell_type": "markdown",
   "id": "2959e4d1-0f31-43cb-88eb-8fe88a509e48",
   "metadata": {},
   "source": [
    "Diminuindo o número de categorias das colunas \"Maritial_Status\" e \"Education\""
   ]
  },
  {
   "cell_type": "code",
   "execution_count": null,
   "id": "c3516c3f-5e5b-4fbf-8548-ca97740a913e",
   "metadata": {},
   "outputs": [],
   "source": [
    "# substituindo características em uma só categoria\n",
    "df['Marital_Status'] = df['Marital_Status'].replace(['Absurd', 'YOLO', 'Alone'], 'Single')\n",
    "df['Marital_Status'] = df['Marital_Status'].replace(['Together'], 'Married')"
   ]
  },
  {
   "cell_type": "code",
   "execution_count": null,
   "id": "84a31f18-6b87-4eb7-9ac2-c712d405c619",
   "metadata": {},
   "outputs": [],
   "source": [
    "df.Marital_Status.value_counts()"
   ]
  },
  {
   "cell_type": "code",
   "execution_count": null,
   "id": "f20610f9-81da-41e6-a0f6-58fbf7857eb0",
   "metadata": {},
   "outputs": [],
   "source": [
    "df['Education'] = df['Education'].replace(['2n Cycle'], 'Master') # transformando categorias em uma só"
   ]
  },
  {
   "cell_type": "code",
   "execution_count": null,
   "id": "ccc879c8-3da1-4ef3-8290-f98286ee78d0",
   "metadata": {},
   "outputs": [],
   "source": [
    "df.Education.value_counts()"
   ]
  },
  {
   "cell_type": "markdown",
   "id": "6c254f2d-7425-4c92-95d9-08e0c14d9493",
   "metadata": {},
   "source": [
    "A exclusão da coluna \"Id\" e o tratamento dos valores nulos para a colunas \"Income\" serão feitos mais adiante, pois trataremos cada um de forma individual. Vejamos agora a questão de outliers nas variaveis: \n",
    "* MntWines\n",
    "* MntFruits\n",
    "* MntMeatProducts\n",
    "* MntFishProducts\n",
    "* MntSweetProducts\n",
    "* MntGoldProds\n",
    "* NumDealsPurchases\n",
    "* NumWebPurchases\n",
    "* NumCatalogPurchases\n",
    "* NumStorePurchases\n",
    "* NumWebVisitsMonth"
   ]
  },
  {
   "cell_type": "code",
   "execution_count": null,
   "id": "1b943e81-d050-455e-9be7-89450fc00f3c",
   "metadata": {},
   "outputs": [],
   "source": []
  },
  {
   "cell_type": "code",
   "execution_count": null,
   "id": "ec1560c5-27d3-47d1-82c4-cd1f335be027",
   "metadata": {},
   "outputs": [],
   "source": []
  },
  {
   "cell_type": "code",
   "execution_count": null,
   "id": "a607f6c6-f27b-427a-87bf-b839db593b2c",
   "metadata": {},
   "outputs": [],
   "source": []
  },
  {
   "cell_type": "code",
   "execution_count": null,
   "id": "c9031802-468d-4af6-a800-522a840c64d9",
   "metadata": {},
   "outputs": [],
   "source": []
  },
  {
   "cell_type": "code",
   "execution_count": null,
   "id": "4a5dfad2-d066-4dd1-9ae9-4546439d09dc",
   "metadata": {},
   "outputs": [],
   "source": []
  },
  {
   "cell_type": "code",
   "execution_count": null,
   "id": "65708240-2516-4ab0-8477-0f5d011f2268",
   "metadata": {},
   "outputs": [],
   "source": []
  },
  {
   "cell_type": "code",
   "execution_count": null,
   "id": "176b0480-9da0-46b9-9bb0-0a24a8cabd28",
   "metadata": {},
   "outputs": [],
   "source": []
  },
  {
   "cell_type": "code",
   "execution_count": null,
   "id": "c5186095-6b40-4f0a-ad40-cd59a7d68706",
   "metadata": {},
   "outputs": [],
   "source": []
  },
  {
   "cell_type": "code",
   "execution_count": null,
   "id": "f89b08bc-1b62-4434-8789-ba4c7aec7317",
   "metadata": {},
   "outputs": [],
   "source": []
  },
  {
   "cell_type": "code",
   "execution_count": null,
   "id": "f0cee11f-5528-44a9-ae8b-50bbfee435ba",
   "metadata": {},
   "outputs": [],
   "source": []
  },
  {
   "cell_type": "code",
   "execution_count": null,
   "id": "33c510fd-c256-4fd8-97d9-7a56ff1d222a",
   "metadata": {},
   "outputs": [],
   "source": []
  },
  {
   "cell_type": "code",
   "execution_count": null,
   "id": "60481cad-ebb3-4262-b2c7-5ebd2f122041",
   "metadata": {},
   "outputs": [],
   "source": []
  },
  {
   "cell_type": "code",
   "execution_count": null,
   "id": "7cfbdd87-3baf-41fd-8f86-46e0a5a29bfc",
   "metadata": {},
   "outputs": [],
   "source": []
  },
  {
   "cell_type": "code",
   "execution_count": null,
   "id": "a45ea774-d5ca-420f-a330-eaf456a57c47",
   "metadata": {},
   "outputs": [],
   "source": []
  },
  {
   "cell_type": "code",
   "execution_count": null,
   "id": "c0b799c5-dd59-4032-a0ed-ae23f2050d2e",
   "metadata": {},
   "outputs": [],
   "source": []
  },
  {
   "cell_type": "code",
   "execution_count": null,
   "id": "e812180f-577b-46d8-b6be-6cbcea77a467",
   "metadata": {},
   "outputs": [],
   "source": []
  },
  {
   "cell_type": "code",
   "execution_count": null,
   "id": "1f1e5805-c662-4189-bc18-5fdfe9933bc5",
   "metadata": {},
   "outputs": [],
   "source": []
  },
  {
   "cell_type": "code",
   "execution_count": null,
   "id": "88e4ea8a-04f0-44ff-a9c4-29abe7e2e994",
   "metadata": {},
   "outputs": [],
   "source": []
  },
  {
   "cell_type": "code",
   "execution_count": null,
   "id": "1f1199d1-1ce5-4f6c-94a1-805b7913fbcf",
   "metadata": {},
   "outputs": [],
   "source": []
  },
  {
   "cell_type": "code",
   "execution_count": null,
   "id": "cec745ab-ea8a-47c1-ae66-008468ce4843",
   "metadata": {},
   "outputs": [],
   "source": []
  },
  {
   "cell_type": "code",
   "execution_count": null,
   "id": "3cbf07b2-a553-4e0e-a7a3-a93861534882",
   "metadata": {},
   "outputs": [],
   "source": []
  },
  {
   "cell_type": "code",
   "execution_count": null,
   "id": "1b3ae7f5-2808-43fb-ad3a-c0d580f0486b",
   "metadata": {},
   "outputs": [],
   "source": []
  },
  {
   "cell_type": "code",
   "execution_count": null,
   "id": "a890c049-5a4f-4b9a-8d62-7794c1448ca7",
   "metadata": {},
   "outputs": [],
   "source": []
  },
  {
   "cell_type": "code",
   "execution_count": null,
   "id": "4a8452b3-e85d-4deb-a08a-f10bc278c534",
   "metadata": {},
   "outputs": [],
   "source": []
  },
  {
   "cell_type": "code",
   "execution_count": null,
   "id": "2a538e32-61bd-4927-bbbe-949f27b7ae8b",
   "metadata": {},
   "outputs": [],
   "source": []
  },
  {
   "cell_type": "code",
   "execution_count": null,
   "id": "f3226cd5-63ad-40a0-abce-f94dd6bf31f7",
   "metadata": {},
   "outputs": [],
   "source": []
  },
  {
   "cell_type": "code",
   "execution_count": null,
   "id": "d577a455-acd4-4b5c-893d-9ad4d7f0db9a",
   "metadata": {},
   "outputs": [],
   "source": []
  },
  {
   "cell_type": "code",
   "execution_count": null,
   "id": "3e8d2188-301b-49ed-b22a-57fb9098933e",
   "metadata": {},
   "outputs": [],
   "source": []
  },
  {
   "cell_type": "code",
   "execution_count": null,
   "id": "b154b090-5495-4f3e-abc9-52e9c1900ea1",
   "metadata": {},
   "outputs": [],
   "source": []
  },
  {
   "cell_type": "code",
   "execution_count": null,
   "id": "0900ee20-fb65-460a-aa76-7c29b6a863fb",
   "metadata": {},
   "outputs": [],
   "source": []
  },
  {
   "cell_type": "code",
   "execution_count": null,
   "id": "705fc672-dd82-4d8c-a7da-9a3b3ac9cbe1",
   "metadata": {},
   "outputs": [],
   "source": []
  },
  {
   "cell_type": "code",
   "execution_count": null,
   "id": "6c6c666c-0640-45c6-b27d-509939bab8e0",
   "metadata": {},
   "outputs": [],
   "source": []
  },
  {
   "cell_type": "code",
   "execution_count": null,
   "id": "208b8068-ddf3-498a-97b0-133251512072",
   "metadata": {},
   "outputs": [],
   "source": []
  },
  {
   "cell_type": "code",
   "execution_count": null,
   "id": "9914cb4c-a32a-48a1-966b-1d720de9f058",
   "metadata": {},
   "outputs": [],
   "source": [
    "df.loc[df['Income'].isnull()]"
   ]
  },
  {
   "cell_type": "code",
   "execution_count": null,
   "id": "7be80ccd-b0b5-4c2f-8e08-7a6f447a66bd",
   "metadata": {},
   "outputs": [],
   "source": []
  },
  {
   "cell_type": "code",
   "execution_count": null,
   "id": "478c82b0-9471-4c20-843a-76b11c0cf852",
   "metadata": {},
   "outputs": [],
   "source": []
  },
  {
   "cell_type": "code",
   "execution_count": null,
   "id": "2a13e0f4-4aa9-4a90-b8d7-62344cd52ebc",
   "metadata": {},
   "outputs": [],
   "source": []
  },
  {
   "cell_type": "code",
   "execution_count": null,
   "id": "26cc5fa1-1688-41d2-b138-a988b343e771",
   "metadata": {},
   "outputs": [],
   "source": [
    "def null_incomes(null_ids):\n",
    "    '''\n",
    "    Função que substitui os valores nulos da coluna \"Income\" pela media daqueles que possuem \n",
    "    caracteristicas semelhantes (nivel de educação, estado civil, crianças em casa, e jovens em casa)\n",
    "    '''\n",
    "    for i in null_ids.itertuples():\n",
    "        df.loc[df.Id == i.Id, 'Income'] = df.loc[(df['Education'] == i.Education) & \n",
    "                                          (df['Marital_Status'] == i.Marital_Status) & \n",
    "                                          (df['Kidhome'] == i.Kidhome) & \n",
    "                                          (df['Teenhome'] == i.Teenhome), 'Income'].mean()"
   ]
  },
  {
   "cell_type": "code",
   "execution_count": null,
   "id": "2353819b-5c26-44d9-a132-3c9413ebde13",
   "metadata": {},
   "outputs": [],
   "source": []
  },
  {
   "cell_type": "code",
   "execution_count": null,
   "id": "aaa104c4-e8cc-4636-b773-2130a5532b51",
   "metadata": {},
   "outputs": [],
   "source": [
    "null_incomes(df.loc[df['Income'].isnull()])"
   ]
  },
  {
   "cell_type": "code",
   "execution_count": null,
   "id": "6bd6f781-92dd-4dad-a366-dcab8b0ff75d",
   "metadata": {},
   "outputs": [],
   "source": [
    "df.loc[df['Income'].isnull()]"
   ]
  },
  {
   "cell_type": "code",
   "execution_count": null,
   "id": "1a1bd757-f0b7-4aad-a449-8bc2743890aa",
   "metadata": {},
   "outputs": [],
   "source": []
  },
  {
   "cell_type": "code",
   "execution_count": null,
   "id": "28a68809-92c9-4fdb-b465-9d493f6f8feb",
   "metadata": {},
   "outputs": [],
   "source": []
  },
  {
   "cell_type": "code",
   "execution_count": null,
   "id": "3f889021-ec3f-47d3-bde3-a891508dad10",
   "metadata": {},
   "outputs": [],
   "source": []
  },
  {
   "cell_type": "code",
   "execution_count": null,
   "id": "3a312ae2-45f2-4321-9713-fe5d79607bd5",
   "metadata": {},
   "outputs": [],
   "source": []
  },
  {
   "cell_type": "code",
   "execution_count": null,
   "id": "075e8ca7-34af-4e3e-b9f2-e25c03625431",
   "metadata": {},
   "outputs": [],
   "source": []
  },
  {
   "cell_type": "code",
   "execution_count": null,
   "id": "9c377c6c-e2c9-4c34-855b-b305cf264bf2",
   "metadata": {},
   "outputs": [],
   "source": []
  },
  {
   "cell_type": "code",
   "execution_count": null,
   "id": "cf48bb06-7939-4987-aada-9be41dd1d4c0",
   "metadata": {},
   "outputs": [],
   "source": []
  },
  {
   "cell_type": "code",
   "execution_count": null,
   "id": "4e354579-3170-414f-a47c-4adce69bec0f",
   "metadata": {},
   "outputs": [],
   "source": [
    "df = df.drop('Id', axis=1) # excluindo coluna id"
   ]
  },
  {
   "cell_type": "code",
   "execution_count": null,
   "id": "0d7f4258-86bb-406f-a9f5-dd81b98f072e",
   "metadata": {},
   "outputs": [],
   "source": []
  },
  {
   "cell_type": "code",
   "execution_count": null,
   "id": "f2ca75b5-5cf2-4765-96b4-7807074b2535",
   "metadata": {},
   "outputs": [],
   "source": []
  }
 ],
 "metadata": {
  "kernelspec": {
   "display_name": "Python 3 (ipykernel)",
   "language": "python",
   "name": "python3"
  },
  "language_info": {
   "codemirror_mode": {
    "name": "ipython",
    "version": 3
   },
   "file_extension": ".py",
   "mimetype": "text/x-python",
   "name": "python",
   "nbconvert_exporter": "python",
   "pygments_lexer": "ipython3",
   "version": "3.9.12"
  }
 },
 "nbformat": 4,
 "nbformat_minor": 5
}
