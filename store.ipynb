{
 "cells": [
  {
   "cell_type": "markdown",
   "id": "8b45f5a5-510d-4c74-b7d5-3d65add62389",
   "metadata": {
    "tags": []
   },
   "source": [
    "## Conhhecendo o Dataset"
   ]
  },
  {
   "cell_type": "code",
   "execution_count": 1,
   "id": "5a633d5d-1b9f-4b9a-9bca-fea459fdae05",
   "metadata": {},
   "outputs": [],
   "source": [
    "import numpy as np\n",
    "import pandas as pd"
   ]
  },
  {
   "cell_type": "code",
   "execution_count": 2,
   "id": "fd94efdf-8a53-4f50-8b9f-501e9af243dd",
   "metadata": {},
   "outputs": [],
   "source": [
    "df = pd.read_csv('superstore_data.csv')"
   ]
  },
  {
   "cell_type": "code",
   "execution_count": null,
   "id": "090aa8fb-6db9-43fb-8ef8-8219f0016c2c",
   "metadata": {},
   "outputs": [],
   "source": [
    "df.head()"
   ]
  },
  {
   "cell_type": "code",
   "execution_count": null,
   "id": "512f2319-7783-48fd-8ca3-48965081b041",
   "metadata": {},
   "outputs": [],
   "source": [
    "df.columns"
   ]
  },
  {
   "cell_type": "code",
   "execution_count": null,
   "id": "c6ec7111-2f3d-4647-ad4f-f87ec8d6cf67",
   "metadata": {},
   "outputs": [],
   "source": [
    "df.shape"
   ]
  },
  {
   "cell_type": "markdown",
   "id": "b8146947-822f-4a98-9039-a632b08bcedd",
   "metadata": {},
   "source": [
    "*Descrição das colunas do dataset*\n",
    "* Id: número único de cada cliente\n",
    "* Year_Birth: ano de nascimento do cliente\n",
    "* Education: nível de educação do cliente\n",
    "* Maritial_Status: estado civíl\n",
    "* Income: renda familiar anual\n",
    "* Kidhome: número de crianças em casa\n",
    "* Teenhome: número de adolescentes em casa\n",
    "* Dt_Customer:data de inscrição do cliente na empresa\n",
    "* Recency: número de dias desde a última compra\n",
    "* MntWines: o valor gasto em produtos vitivinícolas nos últimos 2 anos\n",
    "* MntFruits: o valor gasto em frutas nos últimos 2 anos\n",
    "* MntMeatProducts: o valor gasto em produtos de carne nos últimos dois anos\n",
    "* MntFishProducts: o valor gasto em produtos de peixe nos últimos dois anos\n",
    "* MntSweetProducts: o valor gasto em produtos doces nos últimos dois anos\n",
    "* MntGoldProds: o valor gasto em produtos de ouro nos últimos dois anos\n",
    "* NumDealsPurchases: números de compras feitas com desconto\n",
    "* NumWebPurchases: número de compras feitas através do site da empresa\n",
    "* NumCatalogPurchases: número de compras feitas por catálogo (compra de mercadorias para envio pelo correio)\n",
    "* NumStorePurchases: número de compras feitas diretamente nas lojas\n",
    "* NumWebVisitsMonth: número de visitas ao site da empresa no último mês\n",
    "* Response: 1 se o cliente aceitou a oferta na última campanha, 0 caso contrário\n",
    "* Complain: 1 se o cliente reclamou nos últimos 2 anos"
   ]
  },
  {
   "cell_type": "code",
   "execution_count": null,
   "id": "0dfc79ca-ee3c-4f56-a17c-8e2ae9af4aeb",
   "metadata": {},
   "outputs": [],
   "source": [
    "df.dtypes"
   ]
  },
  {
   "cell_type": "code",
   "execution_count": null,
   "id": "b70e2670-6eb7-4252-b433-5341d3da9e15",
   "metadata": {},
   "outputs": [],
   "source": [
    "df.describe()"
   ]
  },
  {
   "cell_type": "code",
   "execution_count": null,
   "id": "362bc254-42ee-41c9-8bae-960962234695",
   "metadata": {},
   "outputs": [],
   "source": [
    "df.Year_Birth.max() - df.Year_Birth.min()"
   ]
  },
  {
   "cell_type": "code",
   "execution_count": null,
   "id": "0372fb24-025e-4e65-a020-494f9122df67",
   "metadata": {},
   "outputs": [],
   "source": [
    "df.Education.value_counts()"
   ]
  },
  {
   "cell_type": "code",
   "execution_count": null,
   "id": "93168c6f-45d9-4834-9924-5404510be14f",
   "metadata": {},
   "outputs": [],
   "source": [
    "df.Marital_Status.value_counts()"
   ]
  },
  {
   "cell_type": "code",
   "execution_count": null,
   "id": "2c39ddb6-b724-45a4-acb1-7bd05d94677f",
   "metadata": {},
   "outputs": [],
   "source": [
    "df.Teenhome.value_counts()"
   ]
  },
  {
   "cell_type": "code",
   "execution_count": null,
   "id": "f49b1745-dac0-4500-a26b-30bfbc6c203a",
   "metadata": {},
   "outputs": [],
   "source": [
    "df.Kidhome.value_counts()"
   ]
  },
  {
   "cell_type": "code",
   "execution_count": null,
   "id": "be3c7d47-c8fa-4efc-b3a9-7c7c1cb96c1b",
   "metadata": {},
   "outputs": [],
   "source": [
    "df.isnull().sum()"
   ]
  },
  {
   "cell_type": "code",
   "execution_count": null,
   "id": "f7931103-649a-4206-8810-473782720372",
   "metadata": {},
   "outputs": [],
   "source": [
    "df.loc[df['Income'].isnull()]"
   ]
  },
  {
   "cell_type": "code",
   "execution_count": null,
   "id": "78cc0e25-ee53-4c4f-9cd1-5daa65f69637",
   "metadata": {},
   "outputs": [],
   "source": [
    "df.isnull().sum() / len(df) * 100 # porcentagem de valores nulos"
   ]
  },
  {
   "cell_type": "code",
   "execution_count": null,
   "id": "30f9731d-27e2-41b2-97b3-a4ffd93debc1",
   "metadata": {},
   "outputs": [],
   "source": [
    "df.drop_duplicates()"
   ]
  },
  {
   "cell_type": "code",
   "execution_count": null,
   "id": "bd554f5d-7505-4bda-8f1a-fc9339bd020a",
   "metadata": {},
   "outputs": [],
   "source": [
    "df.shape"
   ]
  },
  {
   "cell_type": "markdown",
   "id": "0b2d4751-d0b9-49db-89a9-ba94ffeb18b9",
   "metadata": {
    "tags": []
   },
   "source": [
    "### Observações\n",
    "\n",
    "* A coluna \"Dt_Customer\" não está no formato correto (data), iremos corrigir isso posteriormente;\n",
    "* A coluna \"Year_Birth\" tem uma grande diferença entre seu valor máximo e mínimo;\n",
    "* Há muitas categorias na coluna \"Maritial_Status\", podemos resolver isso ao definir \"Alone\", \"YOLO\", e \"Absurd\" como \"Single\" e \"Together\" como \"Married\";\n",
    "* A coluna Education possui a categoria \"Master\" e \"2n Cycle\", no qual significam a mesma coisa;\n",
    "* Podemos excluir a coluna \"Id\";\n",
    "* A coluna \"Income\" possui valores nulos (1.07%).\n",
    "\n",
    "Os valores nulos (Income) e a exclusão (Id) serão feitos mais adiante, pois trataremos individualmente."
   ]
  },
  {
   "cell_type": "markdown",
   "id": "f33ca9bb-d47e-4ee6-a984-17dc73fcf500",
   "metadata": {
    "tags": []
   },
   "source": [
    "## Tratamento e exploração dos dados"
   ]
  },
  {
   "cell_type": "code",
   "execution_count": 3,
   "id": "1b8501ea-6767-45db-8c52-a98e2b4f94d3",
   "metadata": {},
   "outputs": [],
   "source": [
    "import matplotlib.pyplot as plt\n",
    "import plotly.express as px\n",
    "import seaborn as sns\n",
    "\n",
    "plt.rcParams['figure.figsize'] = (10,7)"
   ]
  },
  {
   "cell_type": "markdown",
   "id": "3f039456-cde4-4279-a416-2e8965cd61a3",
   "metadata": {},
   "source": [
    "Alterando o tipos da variável para datetime"
   ]
  },
  {
   "cell_type": "code",
   "execution_count": 4,
   "id": "e6203485-7316-468c-98d9-08e88898acce",
   "metadata": {},
   "outputs": [],
   "source": [
    "df['Dt_Customer'] = pd.to_datetime(df['Dt_Customer'], format='%m/%d/%Y') # atribuindo tipo datetime para a variável \"Dt_Customer\""
   ]
  },
  {
   "cell_type": "code",
   "execution_count": null,
   "id": "5474877f-9ca0-4dc8-9ee3-7406ebb5b58f",
   "metadata": {},
   "outputs": [],
   "source": [
    "df.dtypes"
   ]
  },
  {
   "cell_type": "code",
   "execution_count": null,
   "id": "2b1bd558-9849-46a2-8376-81835f1d3142",
   "metadata": {},
   "outputs": [],
   "source": [
    "df.head(3)"
   ]
  },
  {
   "cell_type": "markdown",
   "id": "9b575110-81f4-4fe3-b748-17d7d1260165",
   "metadata": {},
   "source": [
    "Verificando e removendo os outliers da coluna \"Year_Birth\""
   ]
  },
  {
   "cell_type": "code",
   "execution_count": null,
   "id": "312d5dd7-d2e8-4cc0-8b03-3c0c20508108",
   "metadata": {},
   "outputs": [],
   "source": [
    "px.box(df, x='Year_Birth') # outliers"
   ]
  },
  {
   "cell_type": "code",
   "execution_count": 7,
   "id": "43a9c28a-a581-40a3-88f1-4af84c4822a4",
   "metadata": {},
   "outputs": [],
   "source": [
    "df = df.loc[df['Year_Birth'] > 1900] # retirando outliers"
   ]
  },
  {
   "cell_type": "code",
   "execution_count": null,
   "id": "096c8f4a-4836-44d9-b3d6-4467f8bda536",
   "metadata": {},
   "outputs": [],
   "source": [
    "df.shape"
   ]
  },
  {
   "cell_type": "code",
   "execution_count": null,
   "id": "55fe419e-6741-4e5e-af80-7aacc44b7696",
   "metadata": {},
   "outputs": [],
   "source": [
    "px.box(df, x='Year_Birth') # verificando"
   ]
  },
  {
   "cell_type": "markdown",
   "id": "2959e4d1-0f31-43cb-88eb-8fe88a509e48",
   "metadata": {},
   "source": [
    "Diminuindo o número de categorias das colunas \"Maritial_Status\" e \"Education\""
   ]
  },
  {
   "cell_type": "code",
   "execution_count": 5,
   "id": "c3516c3f-5e5b-4fbf-8548-ca97740a913e",
   "metadata": {},
   "outputs": [],
   "source": [
    "# substituindo características em uma só categoria\n",
    "df['Marital_Status'] = df['Marital_Status'].replace(['Absurd', 'YOLO', 'Alone'], 'Single')\n",
    "df['Marital_Status'] = df['Marital_Status'].replace(['Together'], 'Married')"
   ]
  },
  {
   "cell_type": "code",
   "execution_count": null,
   "id": "84a31f18-6b87-4eb7-9ac2-c712d405c619",
   "metadata": {},
   "outputs": [],
   "source": [
    "df.Marital_Status.value_counts()"
   ]
  },
  {
   "cell_type": "code",
   "execution_count": 6,
   "id": "f20610f9-81da-41e6-a0f6-58fbf7857eb0",
   "metadata": {},
   "outputs": [],
   "source": [
    "df['Education'] = df['Education'].replace(['2n Cycle'], 'Master') # transformando categorias em uma só"
   ]
  },
  {
   "cell_type": "code",
   "execution_count": null,
   "id": "ccc879c8-3da1-4ef3-8290-f98286ee78d0",
   "metadata": {},
   "outputs": [],
   "source": [
    "df.Education.value_counts()"
   ]
  },
  {
   "cell_type": "markdown",
   "id": "6c254f2d-7425-4c92-95d9-08e0c14d9493",
   "metadata": {},
   "source": [
    "A exclusão da coluna \"Id\" e o tratamento dos valores nulos para a colunas \"Income\" serão feitos mais adiante, pois trataremos cada um de forma individual. Vejamos agora a questão de outliers nas variaveis: \n",
    "* MntWines\n",
    "* MntFruits\n",
    "* MntMeatProducts\n",
    "* MntFishProducts\n",
    "* MntSweetProducts\n",
    "* MntGoldProds"
   ]
  },
  {
   "cell_type": "markdown",
   "id": "6b452ac9-5aa0-43d5-ad26-91f7f246dcdb",
   "metadata": {
    "jp-MarkdownHeadingCollapsed": true,
    "tags": []
   },
   "source": [
    "#### MntWines"
   ]
  },
  {
   "cell_type": "code",
   "execution_count": null,
   "id": "1b943e81-d050-455e-9be7-89450fc00f3c",
   "metadata": {},
   "outputs": [],
   "source": [
    "plt.title('MntWines')\n",
    "plt.boxplot(df['MntWines'])\n",
    "plt.show()\n",
    "\n",
    "plt.hist(df['MntWines'])\n",
    "plt.show()\n",
    "\n",
    "print('Mediana: {}' .format(df['MntWines'].median()))\n",
    "print('Média: {}' .format(df['MntWines'].mean()))"
   ]
  },
  {
   "cell_type": "markdown",
   "id": "ed23e5f5-295c-4202-810a-07232e749089",
   "metadata": {},
   "source": [
    "A média esta muito distante do centro da distribuição, porém, ainda sim, podem refletir o cenário do mundo real, em que algumas pessoas consomem mais que outras."
   ]
  },
  {
   "cell_type": "markdown",
   "id": "c06140cc-90c4-48a5-a68a-2e928c7004c8",
   "metadata": {
    "jp-MarkdownHeadingCollapsed": true,
    "tags": []
   },
   "source": [
    "#### MntFruits"
   ]
  },
  {
   "cell_type": "code",
   "execution_count": null,
   "id": "ec1560c5-27d3-47d1-82c4-cd1f335be027",
   "metadata": {},
   "outputs": [],
   "source": [
    "plt.title('MntFruits')\n",
    "plt.boxplot(df['MntFruits'])\n",
    "plt.show()\n",
    "\n",
    "plt.hist(df['MntFruits'])\n",
    "plt.show()\n",
    "\n",
    "print('Mediana: {}' .format(df['MntFruits'].median()))\n",
    "print('Média: {}' .format(df['MntFruits'].mean()))"
   ]
  },
  {
   "cell_type": "markdown",
   "id": "f3260db2-9cda-47ab-bc07-7b510f0f52db",
   "metadata": {},
   "source": [
    "A média esta muito distante do centro da distribuição, porém, ainda sim, podem refletir o cenário do mundo real, em que algumas pessoas consomem mais que outras."
   ]
  },
  {
   "cell_type": "markdown",
   "id": "61ff1a23-cde0-4225-ba7f-bc15a2aefdea",
   "metadata": {
    "jp-MarkdownHeadingCollapsed": true,
    "tags": []
   },
   "source": [
    "#### MntMeatProducts"
   ]
  },
  {
   "cell_type": "code",
   "execution_count": 8,
   "id": "a607f6c6-f27b-427a-87bf-b839db593b2c",
   "metadata": {},
   "outputs": [
    {
     "data": {
      "image/png": "[encoded data removed]",
      "text/plain": [
       "<Figure size 720x504 with 1 Axes>"
      ]
     },
     "metadata": {
      "needs_background": "light"
     },
     "output_type": "display_data"
    },
    {
     "data": {
      "image/png": "[encoded data removed]",
      "text/plain": [
       "<Figure size 720x504 with 1 Axes>"
      ]
     },
     "metadata": {
      "needs_background": "light"
     },
     "output_type": "display_data"
    },
    {
     "name": "stdout",
     "output_type": "stream",
     "text": [
      "Mediana: 67.0\n",
      "Média: 166.91685292802862\n"
     ]
    }
   ],
   "source": [
    "plt.title('MntMeatProducts')\n",
    "plt.boxplot(df['MntMeatProducts'])\n",
    "plt.grid(True)\n",
    "plt.show()\n",
    "\n",
    "plt.hist(df['MntMeatProducts'])\n",
    "plt.show()\n",
    "\n",
    "print('Mediana: {}' .format(df['MntMeatProducts'].median()))\n",
    "print('Média: {}' .format(df['MntMeatProducts'].mean()))"
   ]
  },
  {
   "cell_type": "markdown",
   "id": "37872fa3-104f-46bc-b37a-06edd6c02496",
   "metadata": {},
   "source": [
    "Aqui podemos observar existem valores que estão muito longe do restante das observações, e isso pode influenciar na nossa análise. Vamos traze-los para mais perto dos nossos dados."
   ]
  },
  {
   "cell_type": "code",
   "execution_count": 9,
   "id": "2b18390d-8a87-4c22-90e0-7c3e19e64549",
   "metadata": {},
   "outputs": [],
   "source": [
    "df['MntMeatProducts'].clip(upper=984, inplace = True)"
   ]
  },
  {
   "cell_type": "code",
   "execution_count": 11,
   "id": "233a3b9a-fb05-4cdf-b0e9-372eeb7f3e7f",
   "metadata": {},
   "outputs": [
    {
     "data": {
      "image/png": "[encoded data removed]",
      "text/plain": [
       "<Figure size 720x504 with 1 Axes>"
      ]
     },
     "metadata": {
      "needs_background": "light"
     },
     "output_type": "display_data"
    }
   ],
   "source": [
    "plt.boxplot(df['MntMeatProducts'])\n",
    "plt.show()"
   ]
  },
  {
   "cell_type": "markdown",
   "id": "363e5780-58ed-4a67-8e27-6f2124667567",
   "metadata": {
    "jp-MarkdownHeadingCollapsed": true,
    "tags": []
   },
   "source": [
    "#### MntFishProducts"
   ]
  },
  {
   "cell_type": "code",
   "execution_count": 13,
   "id": "c9031802-468d-4af6-a800-522a840c64d9",
   "metadata": {},
   "outputs": [
    {
     "data": {
      "image/png": "[encoded data removed]",
      "text/plain": [
       "<Figure size 720x504 with 1 Axes>"
      ]
     },
     "metadata": {
      "needs_background": "light"
     },
     "output_type": "display_data"
    },
    {
     "data": {
      "image/png": "[encoded data removed]",
      "text/plain": [
       "<Figure size 720x504 with 1 Axes>"
      ]
     },
     "metadata": {
      "needs_background": "light"
     },
     "output_type": "display_data"
    },
    {
     "name": "stdout",
     "output_type": "stream",
     "text": [
      "Mediana: 12.0\n",
      "Média: 37.52302190433616\n"
     ]
    }
   ],
   "source": [
    "plt.title('MntFishProducts')\n",
    "plt.boxplot(df['MntFishProducts'])\n",
    "plt.show()\n",
    "\n",
    "plt.hist(df['MntFishProducts'])\n",
    "plt.show()\n",
    "\n",
    "print('Mediana: {}' .format(df['MntFishProducts'].median()))\n",
    "print('Média: {}' .format(df['MntFishProducts'].mean()))"
   ]
  },
  {
   "cell_type": "markdown",
   "id": "0a9e9a26-623d-42bf-97af-1b68c63d917e",
   "metadata": {},
   "source": [
    "A média esta muito distante do centro da distribuição, porém, ainda sim, podem refletir o cenário do mundo real, em que algumas pessoas consomem mais que outras."
   ]
  },
  {
   "cell_type": "markdown",
   "id": "55723c15-cc1a-4ce8-b43d-69200f29623a",
   "metadata": {
    "jp-MarkdownHeadingCollapsed": true,
    "tags": []
   },
   "source": [
    "#### MntSweetProducts"
   ]
  },
  {
   "cell_type": "code",
   "execution_count": 15,
   "id": "4a5dfad2-d066-4dd1-9ae9-4546439d09dc",
   "metadata": {},
   "outputs": [
    {
     "data": {
      "image/png": "[encoded data removed]",
      "text/plain": [
       "<Figure size 720x504 with 1 Axes>"
      ]
     },
     "metadata": {
      "needs_background": "light"
     },
     "output_type": "display_data"
    },
    {
     "data": {
      "image/png": "[encoded data removed]",
      "text/plain": [
       "<Figure size 720x504 with 1 Axes>"
      ]
     },
     "metadata": {
      "needs_background": "light"
     },
     "output_type": "display_data"
    },
    {
     "name": "stdout",
     "output_type": "stream",
     "text": [
      "Mediana: 8.0\n",
      "Média: 27.068842199374163\n"
     ]
    }
   ],
   "source": [
    "plt.title('MntSweetProducts')\n",
    "plt.boxplot(df['MntSweetProducts'])\n",
    "plt.show()\n",
    "\n",
    "plt.hist(df['MntSweetProducts'])\n",
    "plt.show()\n",
    "\n",
    "print('Mediana: {}' .format(df['MntSweetProducts'].median()))\n",
    "print('Média: {}' .format(df['MntSweetProducts'].mean()))"
   ]
  },
  {
   "cell_type": "markdown",
   "id": "1ac32cd8-041f-42a6-9d8b-0f5e25633f7e",
   "metadata": {},
   "source": [
    "Novamente obtivemos valores extremos, mais distante do resto do conjunto de dados."
   ]
  },
  {
   "cell_type": "code",
   "execution_count": 18,
   "id": "c34b52e6-5620-4301-a999-30526351dd7e",
   "metadata": {},
   "outputs": [
    {
     "data": {
      "text/plain": [
       "210     198\n",
       "305     198\n",
       "449     198\n",
       "31      197\n",
       "1502    196\n",
       "2067    195\n",
       "994     194\n",
       "1143    194\n",
       "1785    194\n",
       "1055    192\n",
       "Name: MntSweetProducts, dtype: int64"
      ]
     },
     "execution_count": 18,
     "metadata": {},
     "output_type": "execute_result"
    }
   ],
   "source": [
    "df.MntSweetProducts.nlargest(10)"
   ]
  },
  {
   "cell_type": "code",
   "execution_count": 19,
   "id": "5020dfff-c598-4e00-8d20-6364544c7799",
   "metadata": {},
   "outputs": [],
   "source": [
    "df.MntSweetProducts.clip(upper=198, inplace= True)"
   ]
  },
  {
   "cell_type": "markdown",
   "id": "295a62a7-2718-4cc7-9b1b-5cc493e12d96",
   "metadata": {
    "tags": []
   },
   "source": [
    "#### MntGoldProds"
   ]
  },
  {
   "cell_type": "code",
   "execution_count": 23,
   "id": "65708240-2516-4ab0-8477-0f5d011f2268",
   "metadata": {},
   "outputs": [
    {
     "data": {
      "image/png": "[encoded data removed]",
      "text/plain": [
       "<Figure size 720x504 with 1 Axes>"
      ]
     },
     "metadata": {
      "needs_background": "light"
     },
     "output_type": "display_data"
    },
    {
     "data": {
      "image/png": "[encoded data removed]",
      "text/plain": [
       "<Figure size 720x504 with 1 Axes>"
      ]
     },
     "metadata": {
      "needs_background": "light"
     },
     "output_type": "display_data"
    },
    {
     "name": "stdout",
     "output_type": "stream",
     "text": [
      "Mediana: 24.0\n",
      "Média: 43.86320965578901\n"
     ]
    }
   ],
   "source": [
    "plt.title('MntGoldProds')\n",
    "plt.boxplot(df['MntGoldProds'])\n",
    "plt.show()\n",
    "\n",
    "plt.hist(df['MntGoldProds'])\n",
    "plt.show()\n",
    "\n",
    "print('Mediana: {}' .format(df['MntGoldProds'].median()))\n",
    "print('Média: {}' .format(df['MntGoldProds'].mean()))"
   ]
  },
  {
   "cell_type": "markdown",
   "id": "2ed1c266-4bdc-4246-9e2d-b52ac56c81c9",
   "metadata": {},
   "source": [
    "Mais valores extremos."
   ]
  },
  {
   "cell_type": "code",
   "execution_count": 22,
   "id": "176b0480-9da0-46b9-9bb0-0a24a8cabd28",
   "metadata": {},
   "outputs": [],
   "source": [
    "df.MntGoldProds.clip(upper=250, inplace= True)"
   ]
  },
  {
   "cell_type": "markdown",
   "id": "74e10d4b-7c03-4630-8cc0-a90f5ed6779a",
   "metadata": {},
   "source": [
    "Agora veremos:\n",
    "* NumDealsPurchases\n",
    "* NumWebPurchases\n",
    "* NumCatalogPurchases\n",
    "* NumStorePurchases\n",
    "* NumWebVisitsMonth"
   ]
  },
  {
   "cell_type": "markdown",
   "id": "8ddd903a-e865-4cc7-b52a-e2f2e41a3011",
   "metadata": {},
   "source": [
    "#### NumDealsPurchases"
   ]
  },
  {
   "cell_type": "code",
   "execution_count": null,
   "id": "33c510fd-c256-4fd8-97d9-7a56ff1d222a",
   "metadata": {},
   "outputs": [],
   "source": []
  },
  {
   "cell_type": "code",
   "execution_count": null,
   "id": "60481cad-ebb3-4262-b2c7-5ebd2f122041",
   "metadata": {},
   "outputs": [],
   "source": []
  },
  {
   "cell_type": "code",
   "execution_count": null,
   "id": "7cfbdd87-3baf-41fd-8f86-46e0a5a29bfc",
   "metadata": {},
   "outputs": [],
   "source": []
  },
  {
   "cell_type": "code",
   "execution_count": null,
   "id": "a45ea774-d5ca-420f-a330-eaf456a57c47",
   "metadata": {},
   "outputs": [],
   "source": []
  },
  {
   "cell_type": "code",
   "execution_count": null,
   "id": "c0b799c5-dd59-4032-a0ed-ae23f2050d2e",
   "metadata": {},
   "outputs": [],
   "source": []
  },
  {
   "cell_type": "code",
   "execution_count": null,
   "id": "e812180f-577b-46d8-b6be-6cbcea77a467",
   "metadata": {},
   "outputs": [],
   "source": []
  },
  {
   "cell_type": "code",
   "execution_count": null,
   "id": "1f1e5805-c662-4189-bc18-5fdfe9933bc5",
   "metadata": {},
   "outputs": [],
   "source": []
  },
  {
   "cell_type": "code",
   "execution_count": null,
   "id": "88e4ea8a-04f0-44ff-a9c4-29abe7e2e994",
   "metadata": {},
   "outputs": [],
   "source": []
  },
  {
   "cell_type": "code",
   "execution_count": null,
   "id": "1f1199d1-1ce5-4f6c-94a1-805b7913fbcf",
   "metadata": {},
   "outputs": [],
   "source": []
  },
  {
   "cell_type": "code",
   "execution_count": null,
   "id": "cec745ab-ea8a-47c1-ae66-008468ce4843",
   "metadata": {},
   "outputs": [],
   "source": []
  },
  {
   "cell_type": "code",
   "execution_count": null,
   "id": "3cbf07b2-a553-4e0e-a7a3-a93861534882",
   "metadata": {},
   "outputs": [],
   "source": []
  },
  {
   "cell_type": "code",
   "execution_count": null,
   "id": "1b3ae7f5-2808-43fb-ad3a-c0d580f0486b",
   "metadata": {},
   "outputs": [],
   "source": []
  },
  {
   "cell_type": "code",
   "execution_count": null,
   "id": "a890c049-5a4f-4b9a-8d62-7794c1448ca7",
   "metadata": {},
   "outputs": [],
   "source": []
  },
  {
   "cell_type": "code",
   "execution_count": null,
   "id": "4a8452b3-e85d-4deb-a08a-f10bc278c534",
   "metadata": {},
   "outputs": [],
   "source": []
  },
  {
   "cell_type": "code",
   "execution_count": null,
   "id": "2a538e32-61bd-4927-bbbe-949f27b7ae8b",
   "metadata": {},
   "outputs": [],
   "source": []
  },
  {
   "cell_type": "code",
   "execution_count": null,
   "id": "f3226cd5-63ad-40a0-abce-f94dd6bf31f7",
   "metadata": {},
   "outputs": [],
   "source": []
  },
  {
   "cell_type": "code",
   "execution_count": null,
   "id": "d577a455-acd4-4b5c-893d-9ad4d7f0db9a",
   "metadata": {},
   "outputs": [],
   "source": []
  },
  {
   "cell_type": "code",
   "execution_count": null,
   "id": "b154b090-5495-4f3e-abc9-52e9c1900ea1",
   "metadata": {},
   "outputs": [],
   "source": []
  },
  {
   "cell_type": "code",
   "execution_count": null,
   "id": "0900ee20-fb65-460a-aa76-7c29b6a863fb",
   "metadata": {},
   "outputs": [],
   "source": []
  },
  {
   "cell_type": "code",
   "execution_count": null,
   "id": "705fc672-dd82-4d8c-a7da-9a3b3ac9cbe1",
   "metadata": {},
   "outputs": [],
   "source": []
  },
  {
   "cell_type": "code",
   "execution_count": null,
   "id": "6c6c666c-0640-45c6-b27d-509939bab8e0",
   "metadata": {},
   "outputs": [],
   "source": []
  },
  {
   "cell_type": "code",
   "execution_count": null,
   "id": "208b8068-ddf3-498a-97b0-133251512072",
   "metadata": {},
   "outputs": [],
   "source": []
  },
  {
   "cell_type": "code",
   "execution_count": null,
   "id": "9914cb4c-a32a-48a1-966b-1d720de9f058",
   "metadata": {},
   "outputs": [],
   "source": []
  },
  {
   "cell_type": "code",
   "execution_count": null,
   "id": "7be80ccd-b0b5-4c2f-8e08-7a6f447a66bd",
   "metadata": {},
   "outputs": [],
   "source": []
  },
  {
   "cell_type": "code",
   "execution_count": null,
   "id": "478c82b0-9471-4c20-843a-76b11c0cf852",
   "metadata": {},
   "outputs": [],
   "source": []
  },
  {
   "cell_type": "code",
   "execution_count": null,
   "id": "2a13e0f4-4aa9-4a90-b8d7-62344cd52ebc",
   "metadata": {},
   "outputs": [],
   "source": []
  },
  {
   "cell_type": "code",
   "execution_count": 29,
   "id": "26cc5fa1-1688-41d2-b138-a988b343e771",
   "metadata": {},
   "outputs": [
    {
     "data": {
      "text/html": [
       "<div>\n",
       "<style scoped>\n",
       "    .dataframe tbody tr th:only-of-type {\n",
       "        vertical-align: middle;\n",
       "    }\n",
       "\n",
       "    .dataframe tbody tr th {\n",
       "        vertical-align: top;\n",
       "    }\n",
       "\n",
       "    .dataframe thead th {\n",
       "        text-align: right;\n",
       "    }\n",
       "</style>\n",
       "<table border=\"1\" class=\"dataframe\">\n",
       "  <thead>\n",
       "    <tr style=\"text-align: right;\">\n",
       "      <th></th>\n",
       "      <th>Id</th>\n",
       "      <th>Year_Birth</th>\n",
       "      <th>Education</th>\n",
       "      <th>Marital_Status</th>\n",
       "      <th>Income</th>\n",
       "      <th>Kidhome</th>\n",
       "      <th>Teenhome</th>\n",
       "      <th>Dt_Customer</th>\n",
       "      <th>Recency</th>\n",
       "      <th>MntWines</th>\n",
       "      <th>...</th>\n",
       "      <th>MntFishProducts</th>\n",
       "      <th>MntSweetProducts</th>\n",
       "      <th>MntGoldProds</th>\n",
       "      <th>NumDealsPurchases</th>\n",
       "      <th>NumWebPurchases</th>\n",
       "      <th>NumCatalogPurchases</th>\n",
       "      <th>NumStorePurchases</th>\n",
       "      <th>NumWebVisitsMonth</th>\n",
       "      <th>Response</th>\n",
       "      <th>Complain</th>\n",
       "    </tr>\n",
       "  </thead>\n",
       "  <tbody>\n",
       "    <tr>\n",
       "      <th>2165</th>\n",
       "      <td>7244</td>\n",
       "      <td>1951</td>\n",
       "      <td>Graduation</td>\n",
       "      <td>Single</td>\n",
       "      <td>NaN</td>\n",
       "      <td>2</td>\n",
       "      <td>1</td>\n",
       "      <td>2014-01-01</td>\n",
       "      <td>96</td>\n",
       "      <td>48</td>\n",
       "      <td>...</td>\n",
       "      <td>6</td>\n",
       "      <td>10</td>\n",
       "      <td>7</td>\n",
       "      <td>3</td>\n",
       "      <td>2</td>\n",
       "      <td>1</td>\n",
       "      <td>4</td>\n",
       "      <td>6</td>\n",
       "      <td>0</td>\n",
       "      <td>0</td>\n",
       "    </tr>\n",
       "  </tbody>\n",
       "</table>\n",
       "<p>1 rows × 22 columns</p>\n",
       "</div>"
      ],
      "text/plain": [
       "        Id  Year_Birth   Education Marital_Status  Income  Kidhome  Teenhome  \\\n",
       "2165  7244        1951  Graduation         Single     NaN        2         1   \n",
       "\n",
       "     Dt_Customer  Recency  MntWines  ...  MntFishProducts  MntSweetProducts  \\\n",
       "2165  2014-01-01       96        48  ...                6                10   \n",
       "\n",
       "      MntGoldProds  NumDealsPurchases  NumWebPurchases  NumCatalogPurchases  \\\n",
       "2165             7                  3                2                    1   \n",
       "\n",
       "      NumStorePurchases  NumWebVisitsMonth  Response  Complain  \n",
       "2165                  4                  6         0         0  \n",
       "\n",
       "[1 rows x 22 columns]"
      ]
     },
     "execution_count": 29,
     "metadata": {},
     "output_type": "execute_result"
    }
   ],
   "source": [
    "for i in df.loc[df['Income'].isnull()].itertuples():\n",
    "    df.loc[df.Id == i.Id, 'Income'] = df.loc[(df['Education'] == i.Education) & \n",
    "                                        (df['Marital_Status'] == i.Marital_Status) & \n",
    "                                        (df['Kidhome'] == i.Kidhome) & \n",
    "                                        (df['Teenhome'] == i.Teenhome), 'Income'].mean()\n",
    "\n",
    "df.loc[df['Income'].isnull()]"
   ]
  },
  {
   "cell_type": "code",
   "execution_count": null,
   "id": "2353819b-5c26-44d9-a132-3c9413ebde13",
   "metadata": {},
   "outputs": [],
   "source": []
  },
  {
   "cell_type": "code",
   "execution_count": null,
   "id": "aaa104c4-e8cc-4636-b773-2130a5532b51",
   "metadata": {},
   "outputs": [],
   "source": []
  },
  {
   "cell_type": "code",
   "execution_count": null,
   "id": "1a1bd757-f0b7-4aad-a449-8bc2743890aa",
   "metadata": {},
   "outputs": [],
   "source": []
  },
  {
   "cell_type": "code",
   "execution_count": null,
   "id": "28a68809-92c9-4fdb-b465-9d493f6f8feb",
   "metadata": {},
   "outputs": [],
   "source": []
  },
  {
   "cell_type": "code",
   "execution_count": null,
   "id": "3f889021-ec3f-47d3-bde3-a891508dad10",
   "metadata": {},
   "outputs": [],
   "source": []
  },
  {
   "cell_type": "code",
   "execution_count": null,
   "id": "3a312ae2-45f2-4321-9713-fe5d79607bd5",
   "metadata": {},
   "outputs": [],
   "source": []
  },
  {
   "cell_type": "code",
   "execution_count": null,
   "id": "075e8ca7-34af-4e3e-b9f2-e25c03625431",
   "metadata": {},
   "outputs": [],
   "source": []
  },
  {
   "cell_type": "code",
   "execution_count": null,
   "id": "9c377c6c-e2c9-4c34-855b-b305cf264bf2",
   "metadata": {},
   "outputs": [],
   "source": []
  },
  {
   "cell_type": "code",
   "execution_count": null,
   "id": "cf48bb06-7939-4987-aada-9be41dd1d4c0",
   "metadata": {},
   "outputs": [],
   "source": []
  },
  {
   "cell_type": "code",
   "execution_count": null,
   "id": "4e354579-3170-414f-a47c-4adce69bec0f",
   "metadata": {},
   "outputs": [],
   "source": [
    "df = df.drop('Id', axis=1) # excluindo coluna id"
   ]
  },
  {
   "cell_type": "code",
   "execution_count": null,
   "id": "0d7f4258-86bb-406f-a9f5-dd81b98f072e",
   "metadata": {},
   "outputs": [],
   "source": []
  },
  {
   "cell_type": "code",
   "execution_count": null,
   "id": "f2ca75b5-5cf2-4765-96b4-7807074b2535",
   "metadata": {},
   "outputs": [],
   "source": []
  }
 ],
 "metadata": {
  "kernelspec": {
   "display_name": "Python 3 (ipykernel)",
   "language": "python",
   "name": "python3"
  },
  "language_info": {
   "codemirror_mode": {
    "name": "ipython",
    "version": 3
   },
   "file_extension": ".py",
   "mimetype": "text/x-python",
   "name": "python",
   "nbconvert_exporter": "python",
   "pygments_lexer": "ipython3",
   "version": "3.9.12"
  }
 },
 "nbformat": 4,
 "nbformat_minor": 5
}
